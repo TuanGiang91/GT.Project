{
 "cells": [
  {
   "cell_type": "markdown",
   "id": "0241c564",
   "metadata": {},
   "source": [
    "## 1. Guessing number\n",
    "\n",
    "### Trong bài này, chúng ta sẽ làm 1 trò chơi nhỏ mang tên đoán số. Cụ thể, Máy tính sẽ chọn random 1 số từ 1 đến 10 (không in ra màn hình).\n",
    "### Chúng ta sẽ đoán máy tính chọn số bao nhiêu?\n",
    "#### - Nếu số chúng ta đoán thấp hơn máy tính thì in ra \"Your guessing number is too low\"\n",
    "#### - Nếu số chúng ta đoán cao hơn máy tính thì in ra \"Your guessing number is too high\"\n",
    "#### - Nếu chúng ta đoán đúng số thì in ra \"You got the correct number after\" xx \"tries\" trong đó xx là số lần đoán. (xx <= 5)\n",
    "#### - Trường hợp 5 lần đoán sai thì sẽ dừng trò chơi và in ra \"Gameover!!! The correct number is yy\" trong đó yy là số mà máy tính chọn"
   ]
  },
  {
   "cell_type": "code",
   "execution_count": 2,
   "id": "d8fc1ddc",
   "metadata": {},
   "outputs": [],
   "source": [
    "import random"
   ]
  },
  {
   "cell_type": "code",
   "execution_count": null,
   "id": "00992532",
   "metadata": {},
   "outputs": [],
   "source": [
    "# generate random number\n",
    "number = random.randint(1,10)\n",
    "# guess_limit = 5\n",
    "number_guess = 0\n",
    "# input player's name\n",
    "player = input(\"Type your name:\")\n",
    "# Say hi and welcome player to the guessing game\n",
    "print(\"hi,\", player, \". Let's play\")"
   ]
  },
  {
   "cell_type": "code",
   "execution_count": null,
   "id": "01354a2c",
   "metadata": {},
   "outputs": [],
   "source": [
    "# develop while loop\n",
    "while number_guess <=5:\n",
    "# guess = input the number you guess\n",
    "    guess = int(input(\"what number do you guess\"))\n",
    "    number_guess += 1\n",
    "    if (guess < number):\n",
    "        print(\"your guess is too low\")\n",
    "    elif (guess > number):\n",
    "        print(\"your guess is too high\")\n",
    "    elif (guess == number):\n",
    "        break\n",
    "if (guess == number):\n",
    "    print(\"you got the right number after\", number_guess, \"tries\")\n",
    "# stop the game when you find out the correct number after xx times (xx <= 5) OR the guessing number in your 5th attempt is still wrong\n",
    "if (number_guess > 5):\n",
    "    print(\"Gameover\")"
   ]
  }
 ],
 "metadata": {
  "kernelspec": {
   "display_name": "Python 3 (ipykernel)",
   "language": "python",
   "name": "python3"
  },
  "language_info": {
   "codemirror_mode": {
    "name": "ipython",
    "version": 3
   },
   "file_extension": ".py",
   "mimetype": "text/x-python",
   "name": "python",
   "nbconvert_exporter": "python",
   "pygments_lexer": "ipython3",
   "version": "3.10.9"
  }
 },
 "nbformat": 4,
 "nbformat_minor": 5
}

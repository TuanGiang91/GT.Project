{
 "cells": [
  {
   "cell_type": "markdown",
   "id": "ca934378",
   "metadata": {},
   "source": [
    "## 2. Oẳn tù tì (Rock Paper Scissors game)\n",
    "\n",
    "#### Chúng ta sẽ chọn ra búa, kéo hoặc lá sau đó in ra kết quả. Trường hợp người chơi nhập sai, yêu cầu người chơi nhập lại theo đúng chính tả theo 3 sự lựa chọn búa, kéo, hoặc lá.\n",
    "#### Lưu ý, sau mỗi lượt chơi, máy sẽ random chọn lại búa kéo hoặc lá."
   ]
  },
  {
   "cell_type": "code",
   "execution_count": null,
   "id": "ff8b49cf",
   "metadata": {},
   "outputs": [
    {
     "name": "stdout",
     "output_type": "stream",
     "text": [
      "oantuti: keo\n",
      "hoa\n",
      "oantuti: keo\n",
      "hoa\n",
      "oantuti: keo\n",
      "thang\n",
      "oantuti: keo\n",
      "thang\n",
      "oantuti: keo\n",
      "thang\n",
      "oantuti: keo\n",
      "hoa\n",
      "oantuti: keo\n",
      "thua\n",
      "oantuti: keo\n",
      "thang\n"
     ]
    }
   ],
   "source": [
    "# tạo array búa, kéo, lá\n",
    "import numpy as np\n",
    "arr = np.array([\"bua\", \"keo\", \"la\"], dtype = str)\n",
    "# tạo vòng lặp while để chạy chương trình\n",
    "while True:\n",
    "    import random\n",
    "    comp = (random.choice(arr))\n",
    "    player = str(input(\"oantuti: \"))\n",
    "    if player == \"bua\" and comp == \"keo\":\n",
    "        print(\"thang\")\n",
    "    elif player == \"bua\" and comp == \"la\":\n",
    "        print(\"thua\")\n",
    "    elif player == \"bua\" and comp == \"bua\":\n",
    "        print(\"hoa\")\n",
    "    elif player == \"keo\" and comp == \"keo\":\n",
    "        print(\"hoa\")\n",
    "    elif player == \"keo\" and comp == \"la\":\n",
    "        print(\"thang\")\n",
    "    elif player == \"keo\" and comp == \"bua\":\n",
    "        print(\"thua\")\n",
    "    elif player == \"la\" and comp == \"keo\":\n",
    "        print(\"thua\")\n",
    "    elif player == \"la\" and comp == \"la\":\n",
    "        print(\"hoa\")\n",
    "    elif player == \"la\" and comp == \"bua\":\n",
    "        print(\"thang\")\n",
    "    else:\n",
    "        print(\"Nhap lai dung chinh ta bua, keo hoac la\")"
   ]
  },
  {
   "cell_type": "code",
   "execution_count": null,
   "id": "ac4454d7",
   "metadata": {},
   "outputs": [],
   "source": []
  }
 ],
 "metadata": {
  "kernelspec": {
   "display_name": "Python 3 (ipykernel)",
   "language": "python",
   "name": "python3"
  },
  "language_info": {
   "codemirror_mode": {
    "name": "ipython",
    "version": 3
   },
   "file_extension": ".py",
   "mimetype": "text/x-python",
   "name": "python",
   "nbconvert_exporter": "python",
   "pygments_lexer": "ipython3",
   "version": "3.10.9"
  }
 },
 "nbformat": 4,
 "nbformat_minor": 5
}
